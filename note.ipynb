{
 "cells": [
  {
   "cell_type": "code",
   "execution_count": 1,
   "id": "2bcaff87",
   "metadata": {},
   "outputs": [
    {
     "name": "stdout",
     "output_type": "stream",
     "text": [
      "Current directory: f:\\genai exchange hackathon\n",
      "Files in current directory: ['.git', '.gitignore', '.venv', 'app.py', 'data', 'GenAI Exchange Hackathon - Prototype Submission.pdf', 'models', 'note.ipynb', 'requirements.txt', 'research', 'static', 'templates', '__pycache__']\n"
     ]
    }
   ],
   "source": [
    "import os\n",
    "print(\"Current directory:\", os.getcwd())\n",
    "print(\"Files in current directory:\", os.listdir('.'))\n",
    "\n",
    "# Look for your actual model files\n",
    "for file in os.listdir('.'):\n",
    "    if file.endswith('.pkl'):\n",
    "        print(f\"Found model file: {file}\")"
   ]
  },
  {
   "cell_type": "code",
   "execution_count": null,
   "id": "e7b15f79",
   "metadata": {},
   "outputs": [],
   "source": []
  }
 ],
 "metadata": {
  "kernelspec": {
   "display_name": "Python 3",
   "language": "python",
   "name": "python3"
  },
  "language_info": {
   "codemirror_mode": {
    "name": "ipython",
    "version": 3
   },
   "file_extension": ".py",
   "mimetype": "text/x-python",
   "name": "python",
   "nbconvert_exporter": "python",
   "pygments_lexer": "ipython3",
   "version": "3.12.0"
  }
 },
 "nbformat": 4,
 "nbformat_minor": 5
}
